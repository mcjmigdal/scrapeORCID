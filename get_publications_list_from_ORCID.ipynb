{
 "cells": [
  {
   "cell_type": "code",
   "execution_count": 58,
   "id": "d144ffe1-730a-4fd5-b660-da8b93edcdfb",
   "metadata": {},
   "outputs": [],
   "source": [
    "from selenium import webdriver\n",
    "from bs4 import BeautifulSoup\n",
    "import re"
   ]
  },
  {
   "cell_type": "code",
   "execution_count": 64,
   "id": "17ee20de-6ca3-493a-9f76-b8cfd260ff2b",
   "metadata": {
    "tags": []
   },
   "outputs": [],
   "source": [
    "# source https://gist.github.com/dobrosketchkun/f14e1ab9ae817b00b28251f11786fbcf\n",
    "import requests\n",
    "\n",
    "\n",
    "class CrossRefClient(object):\n",
    "\n",
    "    def __init__(self, accept='text/x-bibliography; style=apa', timeout=3):\n",
    "        \"\"\"\n",
    "        # Defaults to APA biblio style\n",
    "\n",
    "        # Usage:\n",
    "        s = CrossRefClient()\n",
    "        print s.doi2apa(\"10.1038/nature10414\")\n",
    "        \"\"\"\n",
    "        self.headers = {'accept': accept}\n",
    "        self.timeout = timeout\n",
    "\n",
    "    def query(self, doi, q={}):\n",
    "        if doi.startswith(\"http://\"):\n",
    "            url = doi\n",
    "        else:\n",
    "            url = \"http://dx.doi.org/\" + doi\n",
    "        r = requests.get(url, headers = self.headers)\n",
    "        return r\n",
    "\n",
    "    def doi2apa(self, doi):\n",
    "        self.headers['accept'] = 'text/x-bibliography; style=apa'\n",
    "        return self.query(doi).text\n",
    "\n",
    "    def doi2turtle(self, doi):\n",
    "        self.headers['accept'] = 'text/turtle'\n",
    "        return self.query(doi).text\n",
    "\n",
    "    def doi2json(self, doi):\n",
    "        self.headers['accept'] = 'application/vnd.citationstyles.csl+json'\n",
    "        return self.query(doi).json()\n",
    "\n",
    "\n",
    "def names(ref):\n",
    "    name = []\n",
    "    for _item in ref['author']:\n",
    "        given_in = _item['given'].split(' ')\n",
    "        given = ''.join([_name[0] + '.' for _name in given_in])\n",
    "        name.append(_item['family'] + ', ' + given + ', ')\n",
    "    return ''.join(name[0:-1]) + 'and ' + name[-1][0:-2]"
   ]
  },
  {
   "cell_type": "code",
   "execution_count": 9,
   "id": "60794427-50c3-4b0b-9014-bcb01cb5c7ce",
   "metadata": {
    "tags": []
   },
   "outputs": [],
   "source": [
    "url = 'https://orcid.org/0000-0002-8021-7263'\n",
    "driver = webdriver.Firefox()\n",
    "driver.get(url)\n",
    "page_source = driver.page_source\n",
    "driver.close()\n",
    "soup = BeautifulSoup(page_source, 'html.parser')"
   ]
  },
  {
   "cell_type": "code",
   "execution_count": 46,
   "id": "996526f0-0be3-4381-b171-06eca3e7ec33",
   "metadata": {
    "tags": []
   },
   "outputs": [],
   "source": [
    "doi_list = []\n",
    "doi_re = re.compile('doi.org')\n",
    "for doi in soup.find_all(string='DOI:'):\n",
    "    a = doi.parent.parent.findChild('a', href = doi_re)\n",
    "    href = a.get('href')\n",
    "    doi_list.append(href)"
   ]
  },
  {
   "cell_type": "code",
   "execution_count": 73,
   "id": "7efab788-c967-4572-b77b-42bc43c1b97a",
   "metadata": {
    "tags": []
   },
   "outputs": [
    {
     "name": "stdout",
     "output_type": "stream",
     "text": [
      "Uszczynska-Ratajczak, B., Sugunan, S., Kwiatkowska, M., Migdal, M., Carbonell-Sala, S., Sokol, A., Winata, C.L., and Chacinska, A. 2022. Profiling subcellular localization of nuclear-encoded mitochondrial gene products in zebrafish. Life Sci. Alliance. 6:e202201514. doi:https://doi.org/10.26508/lsa.202201514\n",
      "Migdał, M., Arakawa, T., Takizawa, S., Furuno, M., Suzuki, H., Arner, E., Winata, C.L., and Kaczkowski, B. 2023. xcore: an R package for inference of gene expression regulators. BMC Bioinformatics. 24:14. doi:https://doi.org/10.1186/s12859-022-05084-0\n",
      "Migdał, M., Tralle, E., Abu Nahia, K., Bugajski, Ł., Kędzierska, K.Z., Garbicz, F., Piwocka, K., Winata, C.L., and Pawlak, M. 2021. Multi-omics analyses of early liver injury reveals cell-type-specific transcriptional and epigenomic shift. BMC Genomics. 22:904. doi:https://doi.org/10.1186/s12864-021-08173-1\n",
      "Abu Nahia, K., Migdał, M., Quinn, T.A., Poon, K., Łapiński, M., Sulej, A., Liu, J., Mondal, S.S., Pawlak, M., Bugajski, Ł., Piwocka, K., Brand, T., Kohl, P., Korzh, V., and Winata, C. 2021. Genomic and physiological analyses of the zebrafish atrioventricular canal reveal molecular building blocks of the secondary pacemaker region. Cell. Mol. Life Sci.. 78:6669-6687. doi:https://doi.org/10.1007/s00018-021-03939-y\n",
      "Migdal, M., Ruan, D.F., Forrest, W.F., Horowitz, A., and Hammer, C. 2021. MiDAS—Meaningful Immunogenetic Data at Scale. PLoS Comput Biol. 17:e1009131. doi:https://doi.org/10.1371/journal.pcbi.1009131\n",
      "Pawlak, M., Kedzierska, K.Z., Migdal, M., Nahia, K.A., Ramilowski, J.A., Bugajski, L., Hashimoto, K., Marconi, A., Piwocka, K., Carninci, P., and Winata, C.L. 2019. Dynamics of cardiomyocyte transcriptome and chromatin landscape demarcates key events of heart development. Genome Res.. 29:506-519. doi:https://doi.org/10.1101/gr.244491.118\n"
     ]
    }
   ],
   "source": [
    "session = CrossRefClient()\n",
    "prefix = '<li>'\n",
    "suffix = '</li>'\n",
    "for doi in doi_list:\n",
    "    out = session.doi2json(doi)\n",
    "    authors = names(out)\n",
    "    year = str(out['created']['date-parts'][0][0])\n",
    "    title = out['title']\n",
    "    journal_short = out['container-title-short']\n",
    "    volume = str(out['volume'])\n",
    "    if 'article-number' in out.keys():\n",
    "        pages = str(out['article-number'])\n",
    "    else:\n",
    "        pages = out['page']\n",
    "    print(prefix +\n",
    "          authors + ' ' +\n",
    "          year + '. ' +\n",
    "          title + '. ' +\n",
    "          journal_short + '. ' +\n",
    "          volume + ':' +\n",
    "          pages + '. ' +\n",
    "          'doi:' + doi + '.' +\n",
    "          suffix)"
   ]
  },
  {
   "cell_type": "code",
   "execution_count": 74,
   "id": "dbf92271-7638-40e8-bae0-0d6eddf4716b",
   "metadata": {
    "tags": []
   },
   "outputs": [
    {
     "ename": "ValueError",
     "evalue": "not enough values to unpack (expected 3, got 1)",
     "output_type": "error",
     "traceback": [
      "\u001b[0;31m---------------------------------------------------------------------------\u001b[0m",
      "\u001b[0;31mValueError\u001b[0m                                Traceback (most recent call last)",
      "Cell \u001b[0;32mIn[74], line 1\u001b[0m\n\u001b[0;32m----> 1\u001b[0m a1, a2, a3 \u001b[38;5;241m=\u001b[39m [\u001b[38;5;124m'\u001b[39m\u001b[38;5;124ma\u001b[39m\u001b[38;5;124m'\u001b[39m]\n",
      "\u001b[0;31mValueError\u001b[0m: not enough values to unpack (expected 3, got 1)"
     ]
    }
   ],
   "source": [
    "a1, a2, a3 = ['a']"
   ]
  }
 ],
 "metadata": {
  "kernelspec": {
   "display_name": "scrapeORCID",
   "language": "python",
   "name": "scrapeorcid"
  },
  "language_info": {
   "codemirror_mode": {
    "name": "ipython",
    "version": 3
   },
   "file_extension": ".py",
   "mimetype": "text/x-python",
   "name": "python",
   "nbconvert_exporter": "python",
   "pygments_lexer": "ipython3",
   "version": "3.10.9"
  }
 },
 "nbformat": 4,
 "nbformat_minor": 5
}
